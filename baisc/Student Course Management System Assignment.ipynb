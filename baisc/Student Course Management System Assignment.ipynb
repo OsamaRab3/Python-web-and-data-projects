{
 "cells": [
  {
   "cell_type": "markdown",
   "metadata": {},
   "source": [
    "# Student Course Management System Assignment\n"
   ]
  },
  {
   "cell_type": "code",
   "execution_count": 20,
   "metadata": {},
   "outputs": [],
   "source": [
    "# Data structures\n",
    "\n",
    "students = [] \n",
    "\n",
    "courses = set()\n",
    "\n",
    "course_details = {} \n",
    "\n",
    "student_courses = {} \n",
    "\n"
   ]
  },
  {
   "cell_type": "code",
   "execution_count": 30,
   "metadata": {},
   "outputs": [
    {
     "name": "stdout",
     "output_type": "stream",
     "text": [
      "Students: ['Alice', 'Bob', 'Charlie', 'Alice', 'Bob', 'Charlie', 'Alice', 'Bob', 'Charlie']\n"
     ]
    }
   ],
   "source": [
    "#  1. Adding students\n",
    "\n",
    "\n",
    "students.extend([\"Alice\", \"Bob\", \"Charlie\"])\n",
    "\n",
    "for student in students: student_courses[student] = set()\n",
    "\n",
    "print(\"Students:\", students)\n",
    "\n"
   ]
  },
  {
   "cell_type": "code",
   "execution_count": 31,
   "metadata": {},
   "outputs": [
    {
     "name": "stdout",
     "output_type": "stream",
     "text": [
      "Courses: {'CS102', 'CS101', 'CS103'}\n",
      "Course details: {'CS101': ('Introduction to Programming', 3), 'CS102': ('Data Structures', 4), 'CS103': ('Algorithms', 4)}\n"
     ]
    }
   ],
   "source": [
    "\n",
    "# 2. Adding courses\n",
    "new_courses = [ (\"CS101\", \"Introduction to Programming\", 3), (\"CS102\", \"Data Structures\", 4), (\"CS103\", \"Algorithms\", 4) ]\n",
    "\n",
    "for code, name, credits in new_courses: \n",
    "    courses.add(code) \n",
    "    course_details[code] = (name, credits)\n",
    "\n",
    "\n",
    "print(\"Courses:\", courses)\n",
    "print(\"Course details:\", course_details)\n",
    "\n"
   ]
  },
  {
   "cell_type": "code",
   "execution_count": 32,
   "metadata": {},
   "outputs": [
    {
     "name": "stdout",
     "output_type": "stream",
     "text": [
      "Student enrollments: {'Alice': {'CS102', 'CS101'}, 'Bob': {'CS103', 'CS101'}, 'Charlie': {'CS102', 'CS101', 'CS103'}}\n"
     ]
    }
   ],
   "source": [
    "# 3. Enrolling students in courses\n",
    "\n",
    "enrollments = [ (\"Alice\", \"CS101\"), (\"Alice\", \"CS102\"), (\"Bob\", \"CS101\"), (\"Bob\", \"CS103\"), (\"Charlie\", \"CS101\"), (\"Charlie\", \"CS102\"), (\"Charlie\", \"CS103\") ]\n",
    "\n",
    "for student, course in enrollments: student_courses[student].add(course)\n",
    "\n",
    "print(\"Student enrollments:\", student_courses)\n"
   ]
  },
  {
   "cell_type": "code",
   "execution_count": 33,
   "metadata": {},
   "outputs": [
    {
     "name": "stdout",
     "output_type": "stream",
     "text": [
      "Alice's total credits: 7\n"
     ]
    }
   ],
   "source": [
    "# 4. Calculating total credits for a student\n",
    "\n",
    "student_name = \"Alice\" \n",
    "total_credits = sum(course_details[course][1] for course in student_courses[student_name]) \n",
    "print(f\"{student_name}'s total credits:\", total_credits)"
   ]
  },
  {
   "cell_type": "code",
   "execution_count": 34,
   "metadata": {},
   "outputs": [
    {
     "name": "stdout",
     "output_type": "stream",
     "text": [
      "Students enrolled in CS101: ['Alice', 'Bob', 'Charlie']\n"
     ]
    }
   ],
   "source": [
    "# 5. Finding students enrolled in a specific course\n",
    "\n",
    "course_code = \"CS101\" \n",
    "students_in_course = [student for student, courses in student_courses.items() if course_code in courses] \n",
    "print(f\"Students enrolled in {course_code}:\", students_in_course)"
   ]
  },
  {
   "cell_type": "code",
   "execution_count": 35,
   "metadata": {},
   "outputs": [
    {
     "name": "stdout",
     "output_type": "stream",
     "text": [
      "Course with most students: CS101\n"
     ]
    }
   ],
   "source": [
    "# 6. Determining the course with the most students\n",
    "\n",
    "course_enrollment_count = {course: sum(1 for enrolled in student_courses.values() if course in enrolled) for course in courses} \n",
    "most_popular_course = max(course_enrollment_count, key=course_enrollment_count.get) \n",
    "print(\"Course with most students:\", most_popular_course)\n",
    "\n"
   ]
  },
  {
   "cell_type": "code",
   "execution_count": 36,
   "metadata": {},
   "outputs": [
    {
     "name": "stdout",
     "output_type": "stream",
     "text": [
      "Courses after removal: {'CS101', 'CS103'}\n",
      "Student enrollments after course removal: {'Alice': {'CS101'}, 'Bob': {'CS103', 'CS101'}, 'Charlie': {'CS101', 'CS103'}}\n"
     ]
    }
   ],
   "source": [
    "# 7. Removing a course and updating student enrollments\n",
    "\n",
    "course_to_remove = \"CS102\" \n",
    "courses.remove(course_to_remove) \n",
    "\n",
    "del course_details[course_to_remove] \n",
    "for student_enrolled_courses in student_courses.values(): student_enrolled_courses.discard(course_to_remove)\n",
    "\n",
    "print(\"Courses after removal:\", courses) \n",
    "print(\"Student enrollments after course removal:\", student_courses)"
   ]
  },
  {
   "cell_type": "code",
   "execution_count": 37,
   "metadata": {},
   "outputs": [
    {
     "name": "stdout",
     "output_type": "stream",
     "text": [
      "Alice's new total credits: 3\n"
     ]
    }
   ],
   "source": [
    "# Recalculating Alice's credits after course removal\n",
    "\n",
    "alice_new_credits = sum(course_details[course][1] for course in student_courses[\"Alice\"]) \n",
    "print(\"Alice's new total credits:\", alice_new_credits)\n",
    "\n",
    "\n"
   ]
  },
  {
   "cell_type": "code",
   "execution_count": 38,
   "metadata": {},
   "outputs": [
    {
     "name": "stdout",
     "output_type": "stream",
     "text": [
      "Student GPAs: {'Alice': 4.0, 'Bob': 3.4, 'Charlie': 3.857142857142857}\n",
      "Bob's enrolled courses: {'CS103', 'CS101'}\n",
      "Waitlists: {'CS102': [], 'CS101': [], 'CS103': []}\n"
     ]
    }
   ],
   "source": [
    "# 1. Store and calculate GPA for each student\n",
    "gpa = {}  # New dictionary to store student GPAs\n",
    "\n",
    "# Assuming a function to calculate GPA based on credits and grades\n",
    "def calculate_gpa(student_name, grades):\n",
    "    total_credits = sum(course_details[course][1] for course in student_courses[student_name])\n",
    "    weighted_grades = sum(course_details[course][1] * grades[course] for course in student_courses[student_name])\n",
    "    return weighted_grades / total_credits if total_credits > 0 else 0\n",
    "\n",
    "# Example grades for students\n",
    "grades = {\n",
    "    \"Alice\": {\"CS101\": 4.0, \"CS102\": 3.5},\n",
    "    \"Bob\": {\"CS101\": 3.0, \"CS103\": 3.7},\n",
    "    \"Charlie\": {\"CS101\": 3.8, \"CS102\": 3.6, \"CS103\": 3.9},\n",
    "}\n",
    "\n",
    "# Calculate GPA for each student\n",
    "for student in students:\n",
    "    gpa[student] = calculate_gpa(student, grades[student])\n",
    "\n",
    "print(\"Student GPAs:\", gpa)\n",
    "\n",
    "# 2. Find all courses a student is enrolled in\n",
    "def get_student_courses(student_name):\n",
    "    return student_courses[student_name]\n",
    "\n",
    "# Example usage\n",
    "student_name = \"Bob\"\n",
    "print(f\"{student_name}'s enrolled courses:\", get_student_courses(student_name))\n",
    "\n",
    "\n",
    "# 2. Adding courses (must be done before initializing course capacities)\n",
    "new_courses = [\n",
    "    (\"CS101\", \"Introduction to Programming\", 3),\n",
    "    (\"CS102\", \"Data Structures\", 4),\n",
    "    (\"CS103\", \"Algorithms\", 4)\n",
    "]\n",
    "\n",
    "for code, name, credits in new_courses:\n",
    "    courses.add(code) \n",
    "    course_details[code] = (name, credits)\n",
    "\n",
    "# Now initialize capacities and waitlists after courses are added\n",
    "max_capacity = 5\n",
    "course_capacity = {course: max_capacity for course in courses}  # Initialize with all courses\n",
    "waitlist = {course: [] for course in courses}  # Waitlist for each course\n",
    "\n",
    "# 3. Enroll students in courses\n",
    "def enroll_student_in_course(student_name, course_code):\n",
    "    # Ensure the course exists in the course capacity dictionary\n",
    "    if course_code not in course_capacity:\n",
    "        print(f\"Error: {course_code} not found in course capacity.\")\n",
    "        return\n",
    "\n",
    "    # Check if the course has available spots\n",
    "    if len([s for s in student_courses if course_code in student_courses[s]]) < course_capacity[course_code]:\n",
    "        student_courses[student_name].add(course_code)\n",
    "    else:\n",
    "        waitlist[course_code].append(student_name)\n",
    "        print(f\"{student_name} has been added to the waitlist for {course_code}.\")\n",
    "\n",
    "# Example: enrolling more students in full courses\n",
    "enroll_student_in_course(\"Alice\", \"CS101\")\n",
    "enroll_student_in_course(\"Bob\", \"CS101\")\n",
    "enroll_student_in_course(\"Charlie\", \"CS101\")  # Charlie gets waitlisted\n",
    "\n",
    "print(\"Waitlists:\", waitlist)\n"
   ]
  },
  {
   "cell_type": "code",
   "execution_count": 39,
   "metadata": {},
   "outputs": [
    {
     "name": "stdout",
     "output_type": "stream",
     "text": [
      "Alice does not meet the prerequisites for CS103\n"
     ]
    }
   ],
   "source": [
    "# Prerequisites dictionary\n",
    "prerequisites = {\n",
    "    \"CS102\": [\"CS101\"],\n",
    "    \"CS103\": [\"CS102\"],\n",
    "}\n",
    "\n",
    "def can_enroll(student_name, course_code):\n",
    "    if course_code in prerequisites:\n",
    "        return all(prereq in student_courses[student_name] for prereq in prerequisites[course_code])\n",
    "    return True\n",
    "\n",
    "def enroll_student_in_course_with_prereq(student_name, course_code):\n",
    "    if can_enroll(student_name, course_code):\n",
    "        enroll_student_in_course(student_name, course_code)\n",
    "    else:\n",
    "        print(f\"{student_name} does not meet the prerequisites for {course_code}\")\n",
    "\n",
    "# Example usage\n",
    "enroll_student_in_course_with_prereq(\"Alice\", \"CS103\")  # Alice cannot enroll until she completes CS102\n"
   ]
  }
 ],
 "metadata": {
  "kernelspec": {
   "display_name": "Python 3",
   "language": "python",
   "name": "python3"
  },
  "language_info": {
   "codemirror_mode": {
    "name": "ipython",
    "version": 3
   },
   "file_extension": ".py",
   "mimetype": "text/x-python",
   "name": "python",
   "nbconvert_exporter": "python",
   "pygments_lexer": "ipython3",
   "version": "3.12.0"
  }
 },
 "nbformat": 4,
 "nbformat_minor": 2
}
