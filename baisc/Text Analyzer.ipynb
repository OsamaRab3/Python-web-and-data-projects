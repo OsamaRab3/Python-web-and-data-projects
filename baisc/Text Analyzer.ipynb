{
 "cells": [
  {
   "cell_type": "markdown",
   "metadata": {},
   "source": [
    "# Text Analyzer"
   ]
  },
  {
   "cell_type": "code",
   "execution_count": 31,
   "metadata": {},
   "outputs": [],
   "source": [
    "# ask user to enter text \n",
    "\n",
    "while True:\n",
    "    text = input(\"Enter a text to analyze: \")\n",
    "    if text.isdigit():\n",
    "        print(\"Oops! Numbers are not allowed. Try again...\")\n",
    "    else:\n",
    "        break\n",
    "\n",
    "        "
   ]
  },
  {
   "cell_type": "code",
   "execution_count": 32,
   "metadata": {},
   "outputs": [],
   "source": [
    "# 1. Count the frequency of each character (letter, number, punctuation) in the text.\n",
    "\n",
    "from collections import Counter\n",
    "\n",
    "# frequency of each character\n",
    "freq_character = Counter (text)\n",
    "\n",
    "\n",
    "# Convert to uppercase and lowercase\n",
    "uppercase_text = text.upper()\n",
    "lowercase_text = text.lower()\n",
    "\n",
    "\n",
    "\n",
    "#  Reverse the text\n",
    "reversed_word = text [: : -1]\n",
    "\n",
    "\n",
    "# count total char \n",
    "toatl_charcter = len (text)\n",
    "\n",
    "# count total word\n",
    "total_word = len (text.split()) \n",
    "\n",
    "\n",
    "# Find 3 most frequent words\n",
    "freq_word = Counter(text.split())\n",
    "top_3_most_freq = freq_word.most_common(3)\n",
    "        \n",
    "\n",
    "\n"
   ]
  },
  {
   "cell_type": "code",
   "execution_count": 33,
   "metadata": {},
   "outputs": [],
   "source": [
    "#  Check if a palindrome:\n",
    "\n",
    "is_palindrome =  \"A man, a plan, a canal: Panama\"\n",
    "\n",
    "clean_word = ''.join(char.lower() for char in is_palindrome if char.isalnum())\n",
    "\n",
    "if clean_word == clean_word[::-1]:\n",
    "    palindrome = True\n",
    "else :\n",
    "    palindrome = False\n",
    "    \n",
    "\n",
    "\n"
   ]
  },
  {
   "cell_type": "code",
   "execution_count": 34,
   "metadata": {},
   "outputs": [],
   "source": [
    "# 2. Implement a basic sentiment analysis (e.g., counting positive and negative words from predefined lists).\n",
    "\n",
    "\n",
    "positive_words = set(['good', 'great', 'excellent', 'happy', 'love', 'enjoy'])\n",
    "negative_words = set(['bad', 'terrible', 'awful', 'sad', 'hate', 'dislike'])\n",
    "\n",
    "score = 0 \n",
    "for  word in freq_word:\n",
    "    if word in positive_words:\n",
    "        score +=1 \n",
    "    elif word in negative_words:\n",
    "        score -=1 \n",
    "        \n",
    "        "
   ]
  },
  {
   "cell_type": "code",
   "execution_count": 38,
   "metadata": {},
   "outputs": [],
   "source": [
    "# 3. Generate a simple word cloud (text-based) showing the most frequent words.\n",
    "output = \"\"\n",
    "freq_word = Counter(text.lower().split()) \n",
    "for word,freq in freq_word.items():\n",
    "    output += f\"{word}: {'*' * freq}\\n\"\n",
    "    \n",
    "    \n",
    "\n",
    "\n"
   ]
  },
  {
   "cell_type": "code",
   "execution_count": 36,
   "metadata": {},
   "outputs": [],
   "source": [
    "# 4. Implement a basic text encryption/decryption function (e.g., Caesar cipher).\n",
    "\n",
    "def encrypt(text, shift):\n",
    "    encrypted = \"\"\n",
    "    for char in text:\n",
    "        if char.isalpha():  \n",
    "            shift_base = ord('A') if char.isupper() else ord('a')\n",
    "            encrypted += chr((ord(char) - shift_base + shift) % 26 + shift_base)\n",
    "        else:\n",
    "            encrypted += char  \n",
    "    return encrypted\n",
    "\n",
    "\n",
    "encrypted = encrypt (text,5)\n",
    "\n",
    "def decrypt(encrypted_text, shift):\n",
    "    return encrypt(encrypted_text, -shift)\n",
    "\n",
    "\n",
    "\n"
   ]
  },
  {
   "cell_type": "code",
   "execution_count": 42,
   "metadata": {},
   "outputs": [
    {
     "name": "stdout",
     "output_type": "stream",
     "text": [
      "\n",
      "Text Analysis Results:\n",
      "1.frequency of each character Counter({' ': 8, 'o': 4, 'e': 3, 'h': 2, 'u': 2, 'r': 2, 'T': 1, 'q': 1, 'i': 1, 'c': 1, 'k': 1, 'b': 1, 'w': 1, 'n': 1, 'f': 1, 'x': 1, 'j': 1, 'm': 1, 'p': 1, 's': 1, 'v': 1, 't': 1, 'l': 1, 'a': 1, 'z': 1, 'y': 1, 'd': 1, 'g': 1})\n",
      "2. Total characters: 43\n",
      "3.frequency of each word Counter({'the': 2, 'quick': 1, 'brown': 1, 'fox': 1, 'jumps': 1, 'over': 1, 'lazy': 1, 'dog': 1})\n",
      "4. Word count: 9\n",
      "5. Uppercase: THE QUICK BROWN FOX JUMPS OVER THE LAZY DOG\n",
      "6. Lowercase: the quick brown fox jumps over the lazy dog\n",
      "7. Reversed text: god yzal eht revo spmuj xof nworb kciuq ehT\n",
      "8. Is palindrome: True\n",
      "9. Top 3 most frequent words: [('The', 1), ('quick', 1), ('brown', 1)]\n",
      "10. Simple word cloud (top 10 words): the: **\n",
      "quick: *\n",
      "brown: *\n",
      "fox: *\n",
      "jumps: *\n",
      "over: *\n",
      "lazy: *\n",
      "dog: *\n",
      "\n",
      "11. Sentiment score: 0\n",
      "12. Encrypted text (Caesar cipher with shift 5): Ymj vznhp gwtbs ktc ozrux tajw ymj qfed itl\n",
      "13. Decrypted text (Caesar cipher with shift 5): The quick brown fox jumps over the lazy dog\n"
     ]
    }
   ],
   "source": [
    "# 5. Display all the results in a formatted manner.\n",
    "\n",
    "\n",
    "print(f\"\\nText Analysis Results:\")\n",
    "print(f\"1.frequency of each character {freq_character}\")\n",
    "print(f\"2. Total characters: {toatl_charcter}\")\n",
    "print(f\"3.frequency of each word {freq_word}\")\n",
    "print(f\"4. Word count: {total_word}\")\n",
    "print(f\"5. Uppercase: {uppercase_text}\")\n",
    "print(f\"6. Lowercase: {lowercase_text}\")\n",
    "print(f\"7. Reversed text: {reversed_word}\")\n",
    "print(f\"8. Is palindrome: {palindrome}\")\n",
    "print(f\"9. Top 3 most frequent words: {top_3_most_freq}\")\n",
    "print(f\"10. Simple word cloud (top 10 words): {output}\")\n",
    "print(f\"11. Sentiment score: {score}\")\n",
    "print(f\"12. Encrypted text (Caesar cipher with shift {5}): {encrypted}\")\n",
    "print(f\"13. Decrypted text (Caesar cipher with shift {5}): {decrypt(encrypted,5)}\")"
   ]
  }
 ],
 "metadata": {
  "kernelspec": {
   "display_name": "Python 3",
   "language": "python",
   "name": "python3"
  },
  "language_info": {
   "codemirror_mode": {
    "name": "ipython",
    "version": 3
   },
   "file_extension": ".py",
   "mimetype": "text/x-python",
   "name": "python",
   "nbconvert_exporter": "python",
   "pygments_lexer": "ipython3",
   "version": "3.12.0"
  }
 },
 "nbformat": 4,
 "nbformat_minor": 2
}
