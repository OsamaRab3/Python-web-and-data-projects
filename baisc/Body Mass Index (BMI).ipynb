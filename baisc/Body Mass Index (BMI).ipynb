{
 "cells": [
  {
   "cell_type": "markdown",
   "metadata": {},
   "source": [
    "# Body Mass Index (BMI)\n"
   ]
  },
  {
   "cell_type": "code",
   "execution_count": 14,
   "metadata": {},
   "outputs": [],
   "source": [
    "# 1. Ask the user for their weight in kilograms and height in meters.\n",
    "# input validation\n",
    "\n",
    "while True:\n",
    "    try:\n",
    "        weight = int(input(\"Enter your weight in kilograms: \"))\n",
    "        height = float(input(\"Enter your height in meters: \"))\n",
    "        break\n",
    "    except ValueError:\n",
    "        print(\"Oops! Text are not allowed. Try again...\")\n",
    "    \n",
    "\n",
    "\n"
   ]
  },
  {
   "cell_type": "code",
   "execution_count": 15,
   "metadata": {},
   "outputs": [],
   "source": [
    "# 2. Calculate the BMI using the formula:\n",
    "BMI = weight  /(height **2)\n"
   ]
  },
  {
   "cell_type": "code",
   "execution_count": 16,
   "metadata": {},
   "outputs": [
    {
     "name": "stdout",
     "output_type": "stream",
     "text": [
      "Underweight\n"
     ]
    }
   ],
   "source": [
    "category =\"\"\n",
    "if BMI < 18.5 :\n",
    "    category = \"Underweight\"\n",
    "    print(\"Underweight\")  \n",
    "    \n",
    "elif BMI > 18.5 and BMI <24.9:\n",
    "    category = \"Normal weight\"\n",
    "    print (\"Normal weight\")\n",
    "    \n",
    "elif BMI > 25 and BMI < 29.9:\n",
    "    category = \"Overweight\"\n",
    "    print(\"Overweight\")\n",
    "    \n",
    "else :\n",
    "    category = \"Obese\"\n",
    "    print(\"Obese\")\n",
    "    \n",
    "    "
   ]
  },
  {
   "cell_type": "code",
   "execution_count": 17,
   "metadata": {},
   "outputs": [
    {
     "name": "stdout",
     "output_type": "stream",
     "text": [
      "BMI weight 12.5 and category Underweight \n"
     ]
    }
   ],
   "source": [
    "\n",
    "# 4. Display the calculated BMI and weight category.\n",
    "\n",
    "print (f\"BMI weight {BMI} and category {category} \")\n",
    "\n"
   ]
  },
  {
   "cell_type": "code",
   "execution_count": 21,
   "metadata": {},
   "outputs": [
    {
     "name": "stdout",
     "output_type": "stream",
     "text": [
      "To help you reach a healthy weight, aim to gain around 34.00 kg based on your height.\n"
     ]
    }
   ],
   "source": [
    "# suggest a target weight range for a \"Normal weight\" BMI.\n",
    "\n",
    "suggest_normal = (height ** 2 ) * int (((18.5 + 24.5 )/2 ))\n",
    "suggest_weight = abs(weight - suggest_normal)\n",
    "\n",
    "\n",
    "if BMI < 18.5 :\n",
    "    print (f\"To help you reach a healthy weight, aim to gain around {suggest_weight:.2f} kg based on your height.\")\n",
    "\n",
    "else :\n",
    "    print (f\"To help you reach a healthy weight, aim to lose around {suggest_weight:.2f} kg based on your height.\")\n",
    "    \n"
   ]
  }
 ],
 "metadata": {
  "kernelspec": {
   "display_name": "Python 3",
   "language": "python",
   "name": "python3"
  },
  "language_info": {
   "codemirror_mode": {
    "name": "ipython",
    "version": 3
   },
   "file_extension": ".py",
   "mimetype": "text/x-python",
   "name": "python",
   "nbconvert_exporter": "python",
   "pygments_lexer": "ipython3",
   "version": "3.12.0"
  }
 },
 "nbformat": 4,
 "nbformat_minor": 2
}
